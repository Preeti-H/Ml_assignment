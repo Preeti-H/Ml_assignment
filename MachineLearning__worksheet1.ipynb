{
 "cells": [
  {
   "cell_type": "markdown",
   "id": "6396b5c0",
   "metadata": {},
   "source": [
    "Qn.1 Write a python function which should be capable of finding the factorial of any given number as an\n",
    "argument "
   ]
  },
  {
   "cell_type": "code",
   "execution_count": 7,
   "id": "f0e02001",
   "metadata": {},
   "outputs": [
    {
     "name": "stdout",
     "output_type": "stream",
     "text": [
      "1307674368000\n"
     ]
    }
   ],
   "source": [
    "def fact(num):\n",
    "  fact=1\n",
    "  for i in range(1,num+1):\n",
    "      fact=fact*i\n",
    "  return fact\n",
    "\n",
    "print(fact(15))"
   ]
  },
  {
   "cell_type": "markdown",
   "id": "47cb8687",
   "metadata": {},
   "source": [
    "Qn.2 Luke Skywalker has family and friends. Help him remind them who is who. Given a string with a\n",
    "name, return the relation of that person to Luke.\n"
   ]
  },
  {
   "cell_type": "code",
   "execution_count": 21,
   "id": "51d3c14e",
   "metadata": {},
   "outputs": [
    {
     "name": "stdout",
     "output_type": "stream",
     "text": [
      "Luke, I am your brother in law\n"
     ]
    }
   ],
   "source": [
    "def luke_relation(name):\n",
    "    relation={'Darth Vader':'father','Lela':'sister','Han':'brother in law','R2D2':'droid'}\n",
    "    return relation[name]\n",
    "\n",
    "print(\"Luke, I am your \"+ luke_relation('Han'))"
   ]
  },
  {
   "cell_type": "markdown",
   "id": "f433b568",
   "metadata": {},
   "source": [
    "Qn.3 Create a function which takes a number as its argument and return the number of digits in it. Use\n",
    "of len function is not allowed. For example for 5 it should return 1, for 32 it should return 2 and 123 ,\n",
    "3 should be returned and so on."
   ]
  },
  {
   "cell_type": "code",
   "execution_count": 20,
   "id": "0ccce2c8",
   "metadata": {},
   "outputs": [
    {
     "name": "stdout",
     "output_type": "stream",
     "text": [
      "5\n"
     ]
    }
   ],
   "source": [
    "def number_of_digits(num):\n",
    "    temp=num\n",
    "    count=0\n",
    "    while(temp>0):\n",
    "        x=temp%10\n",
    "        count+=1\n",
    "        temp=temp//10\n",
    "        \n",
    "    return count\n",
    "\n",
    "print(number_of_digits(12345))\n"
   ]
  },
  {
   "cell_type": "markdown",
   "id": "34f44788",
   "metadata": {},
   "source": [
    "Qn.4 Write a function which takes a number as argument suppose 5 and gives results as multiplication\n",
    "of factorial of each positive number less than or equal to the number given. i.e !5*!4*!3*!2*!1 =\n",
    "34560."
   ]
  },
  {
   "cell_type": "code",
   "execution_count": 19,
   "id": "5d2ee80d",
   "metadata": {},
   "outputs": [
    {
     "name": "stdout",
     "output_type": "stream",
     "text": [
      "24883200\n"
     ]
    }
   ],
   "source": [
    "def fact(num):\n",
    "  fact=1\n",
    "  for i in range(1,num+1):\n",
    "      fact=fact*i\n",
    "  return fact\n",
    "\n",
    "def multiply_factorial(num):\n",
    "    temp=num\n",
    "    result=1\n",
    "    while(temp>0):\n",
    "        curr_fact=fact(temp)\n",
    "        result=result*curr_fact\n",
    "        temp-=1\n",
    "    return result\n",
    "\n",
    "print(multiply_factorial(6))\n"
   ]
  },
  {
   "cell_type": "code",
   "execution_count": null,
   "id": "2dc12fb1",
   "metadata": {},
   "outputs": [],
   "source": [
    "Qn.5 Write a function which takes any number of arguments from a user and return the result which\n",
    "should be output of a2 + b2+ c2+… if a , b ,c are numbers supplied ..i.e if 1,2,3 are supplied then result\n",
    "returned should be 14. But user may supply any number of inputs so make the function to adapt to\n",
    "that."
   ]
  },
  {
   "cell_type": "code",
   "execution_count": 18,
   "id": "fe12c4aa",
   "metadata": {},
   "outputs": [
    {
     "name": "stdout",
     "output_type": "stream",
     "text": [
      "55\n"
     ]
    }
   ],
   "source": [
    "def args_example(*argv):\n",
    "    result=0\n",
    "    for num in argv:\n",
    "        \n",
    "        temp=num**2\n",
    "        result=result+temp\n",
    "    return result\n",
    "\n",
    "print(args_example(1,2,3,4,5))\n"
   ]
  },
  {
   "cell_type": "markdown",
   "id": "cfed32dd",
   "metadata": {},
   "source": [
    "Qn.6 Write a function which accepts 3 arguments from the user.1 .number 1, 2. Number2 and 3. An\n",
    "operation. The operation supported should be +, -, *, and /. The function should return the result of\n",
    "given operation. For example arguments are 3,2,+ then result returned should be 5."
   ]
  },
  {
   "cell_type": "code",
   "execution_count": 6,
   "id": "caa90fc8",
   "metadata": {},
   "outputs": [
    {
     "name": "stdout",
     "output_type": "stream",
     "text": [
      "None\n",
      "5\n"
     ]
    }
   ],
   "source": [
    "def valid_operation(num1,num2,op):\n",
    "    if(op not in ['+','-','*','/']):\n",
    "        return \n",
    "    else:\n",
    "        if(op=='+'):\n",
    "            return num1+num2\n",
    "        elif(op=='-'):\n",
    "            return num1-num2\n",
    "        elif(op=='*'):\n",
    "            return num1*num2\n",
    "        elif(op=='/'):\n",
    "            return num1/num2\n",
    "\n",
    "print(valid_operation(2,3,'^'))\n",
    "print(valid_operation(2,3,'+'))"
   ]
  },
  {
   "cell_type": "markdown",
   "id": "99067011",
   "metadata": {},
   "source": [
    "Qn.7 Write a function which takes an argument which should be a numeric +ve integer. Depending on\n",
    "the input supplied you have to print “I CAN”, “I WILL”. Suppose some one enters argument as 1 then\n",
    "only “I CAN” should be printed. But if some one enters 2 then first “I CAN” should be printed then “I\n",
    "WILL”. And if someone enters 3 then following should be printed in corresponding order: “I CAN”, “I\n",
    "WILL”, “I CAN” and so on for any numbers entered."
   ]
  },
  {
   "cell_type": "code",
   "execution_count": 6,
   "id": "73d6a673",
   "metadata": {},
   "outputs": [
    {
     "name": "stdout",
     "output_type": "stream",
     "text": [
      "I CAN I WILL I CAN I WILL I CAN I WILL I CAN I WILL I CAN I WILL "
     ]
    }
   ],
   "source": [
    "def ican_iwill(num):\n",
    "    temp=num\n",
    "    a=0\n",
    "    while(temp>0):\n",
    "        if(a==0):\n",
    "            print(\"I CAN\",end=' ')\n",
    "            a=1\n",
    "        else:\n",
    "            print(\"I WILL\",end=' ')\n",
    "            a=0\n",
    "        temp-=1\n",
    "\n",
    "\n",
    "ican_iwill(10)"
   ]
  },
  {
   "cell_type": "markdown",
   "id": "f12af621",
   "metadata": {},
   "source": [
    "Qn.8 We have been given a list of whole numbers which represents the color of each gloves, determine\n",
    "how many pairs of gloves with matching colors there are. For example, there are 7 gloves with\n",
    "colors [1, 2, 1, 2, 1, 3, 2]. There is one pair of color 1 and one of color 2. There are three odd gloves\n",
    "left, one of each color. The number of pairs is 2. Create a function that returns an integer representing\n",
    "the number of matching pairs of gloves that are available."
   ]
  },
  {
   "cell_type": "code",
   "execution_count": 14,
   "id": "bf6f9245",
   "metadata": {},
   "outputs": [
    {
     "name": "stdout",
     "output_type": "stream",
     "text": [
      "2\n",
      "1\n"
     ]
    }
   ],
   "source": [
    "def pairs_of_gloves(l1):\n",
    "    l1.sort()\n",
    "    i=0\n",
    "    count=0\n",
    "    flag=True\n",
    "    while(i<len(l1)-1):\n",
    "        if(l1[i+1]-l1[i]==0):\n",
    "            count+=1\n",
    "            i+=2\n",
    "        else:\n",
    "            i+=1\n",
    "    return count\n",
    "print(pairs_of_gloves([1,2,1,2,1,3,2,4]))\n",
    "print(pairs_of_gloves([1,2,1]))"
   ]
  },
  {
   "cell_type": "markdown",
   "id": "96e0bb28",
   "metadata": {},
   "source": [
    "Qn.9 Write a function that returns True if two arrays, when combined, form a consecutive sequence. A\n",
    "consecutive sequence is a sequence without any gaps in the integers, e.g. 1, 2, 3, 4, 5 is a\n",
    "consecutive sequence, but 1, 2, 4, 5 is not. Notes\n",
    "• The input lists will have unique values.\n",
    "• The input lists can be in any order."
   ]
  },
  {
   "cell_type": "code",
   "execution_count": 10,
   "id": "a620b593",
   "metadata": {},
   "outputs": [
    {
     "name": "stdout",
     "output_type": "stream",
     "text": [
      "False\n",
      "True\n",
      "False\n"
     ]
    }
   ],
   "source": [
    "def sequence(l1,l2):\n",
    "    l1.extend(l2)\n",
    "    l1.sort()\n",
    "    i=0\n",
    "    flag=True\n",
    "    while(i<len(l1)-1):\n",
    "        #print(l1[i+1])\n",
    "        if(l1[i+1]-l1[i]==1):\n",
    "            i+=1\n",
    "            flag=True\n",
    "        else:\n",
    "            flag=False\n",
    "            break\n",
    "    return flag\n",
    "print(sequence([1,2,7],[4,5,6]))\n",
    "print(sequence([44,46],[45]))\n",
    "print(sequence([44,4],[45]))"
   ]
  },
  {
   "cell_type": "markdown",
   "id": "90dac8b4",
   "metadata": {},
   "source": [
    "Qn.10 You work for a manufacturer, and have been asked to calculate the total profit made on the sales\n",
    "of a product. You are given a dictionary containing the cost price per unit (in dollars), sell price per\n",
    "unit (in dollars), and the starting inventory. Return the total profit made, rounded to the nearest\n",
    "dollar.\n"
   ]
  },
  {
   "cell_type": "code",
   "execution_count": 12,
   "id": "12e78cc9",
   "metadata": {},
   "outputs": [
    {
     "name": "stdout",
     "output_type": "stream",
     "text": [
      "18395\n"
     ]
    }
   ],
   "source": [
    "def totalprofit(product):\n",
    "    return int((product['sell_price']-product['cost_price'])*product['inventory'])\n",
    "\n",
    "\n",
    "print(totalprofit({\n",
    "   'cost_price':34.67,\n",
    "    'sell_price':50.00,\n",
    "    'inventory':1200\n",
    "}))"
   ]
  },
  {
   "cell_type": "code",
   "execution_count": null,
   "id": "189edaea",
   "metadata": {},
   "outputs": [],
   "source": []
  }
 ],
 "metadata": {
  "kernelspec": {
   "display_name": "Python 3",
   "language": "python",
   "name": "python3"
  },
  "language_info": {
   "codemirror_mode": {
    "name": "ipython",
    "version": 3
   },
   "file_extension": ".py",
   "mimetype": "text/x-python",
   "name": "python",
   "nbconvert_exporter": "python",
   "pygments_lexer": "ipython3",
   "version": "3.8.8"
  }
 },
 "nbformat": 4,
 "nbformat_minor": 5
}
